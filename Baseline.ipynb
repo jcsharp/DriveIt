{
 "cells": [
  {
   "cell_type": "markdown",
   "metadata": {},
   "source": [
    "# Baseline: Reflex Control\n",
    "\n",
    "Steers the car using a PD controller on the estimated $y_m$ track median offset."
   ]
  },
  {
   "cell_type": "code",
   "execution_count": 3,
   "metadata": {
    "collapsed": false,
    "scrolled": false
   },
   "outputs": [
    {
     "name": "stdout",
     "output_type": "stream",
     "text": [
      "Episode 1 complete. reward: 17.828333, laps: 3.541379\n",
      "Average reward: 17.828333\n"
     ]
    }
   ],
   "source": [
    "from DriveItGym import *\n",
    "import numpy as np\n",
    "from numpy import pi\n",
    "\n",
    "num_episodes = 1  # number of episodes to run\n",
    "time_limit = 10.0\n",
    "throttle_limit = 1.0\n",
    "gamma = 0.98\n",
    "epsilon = 0.03\n",
    "kp, kv = 1.2, 0.2\n",
    "random_position=False\n",
    "\n",
    "env = DriveItEnv(time_limit, throttle_limit, gamma, trail_length=3.0)\n",
    "observation = env._reset(random_position)\n",
    "ym_ = 0.0\n",
    "done = False\n",
    "reward_episode = 0\n",
    "reward_sum = 0.0\n",
    "\n",
    "for i_episode in range(1, num_episodes + 1):\n",
    "    while not done:\n",
    "        if num_episodes < 2:\n",
    "            env.render()\n",
    "\n",
    "        xm, ym, theta, steer, throttle = observation\n",
    "        dym = ym - ym_\n",
    "        ym_ = ym\n",
    "        f = steer + kp * ym + kv * dym / dt\n",
    "        if f > epsilon: action = 2\n",
    "        elif f < -epsilon: action = 1\n",
    "        else: action = 0\n",
    "            \n",
    "        if throttle < throttle_limit:\n",
    "            action += 3\n",
    "\n",
    "        observation, reward, done, info = env.step(action)\n",
    "        reward_episode += reward\n",
    "        #reward_sum = reward + gamma * reward_sum\n",
    "\n",
    "        #if info['checkpoint']: \n",
    "        #    print('checkpoint: reward: %f' % (reward_sum))\n",
    "        #if info['lap']: \n",
    "        #    print('lap:        reward: %f' % (reward_sum))\n",
    "\n",
    "    if num_episodes <= 10:\n",
    "        print('Episode %d %s. reward: %f, laps: %f' % \\\n",
    "              (i_episode, info['done'], reward_episode, \\\n",
    "               reward_episode / lap_median_length))\n",
    "    reward_sum += reward_episode\n",
    "    reward_episode = 0\n",
    "    observation = env._reset(random_position)\n",
    "    done = False\n",
    "\n",
    "print('Average reward: %f' %(reward_sum / num_episodes))"
   ]
  },
  {
   "cell_type": "code",
   "execution_count": 8,
   "metadata": {
    "collapsed": false
   },
   "outputs": [],
   "source": [
    "env.close()"
   ]
  },
  {
   "cell_type": "code",
   "execution_count": 6,
   "metadata": {
    "collapsed": false
   },
   "outputs": [
    {
     "data": {
      "text/plain": [
       "array([ 0.,  0.,  0.,  0.,  0.])"
      ]
     },
     "execution_count": 6,
     "metadata": {},
     "output_type": "execute_result"
    }
   ],
   "source": [
    "env._reset(random_position)"
   ]
  },
  {
   "cell_type": "code",
   "execution_count": 7,
   "metadata": {
    "collapsed": false
   },
   "outputs": [],
   "source": [
    "env.render()"
   ]
  },
  {
   "cell_type": "code",
   "execution_count": 22,
   "metadata": {
    "collapsed": false
   },
   "outputs": [
    {
     "data": {
      "text/plain": [
       "2.0833333333333313"
      ]
     },
     "execution_count": 22,
     "metadata": {},
     "output_type": "execute_result"
    }
   ],
   "source": [
    "# out penalty = max discounted reward for median laps at full speed\n",
    "rmax = throttle_limit * v_max * dt / (1 - gamma)\n",
    "rmax"
   ]
  },
  {
   "cell_type": "code",
   "execution_count": null,
   "metadata": {
    "collapsed": false
   },
   "outputs": [],
   "source": []
  },
  {
   "cell_type": "code",
   "execution_count": null,
   "metadata": {
    "collapsed": true
   },
   "outputs": [],
   "source": []
  }
 ],
 "metadata": {
  "anaconda-cloud": {},
  "kernelspec": {
   "display_name": "Python [conda env:cntk-py34]",
   "language": "python",
   "name": "conda-env-cntk-py34-py"
  },
  "language_info": {
   "codemirror_mode": {
    "name": "ipython",
    "version": 3
   },
   "file_extension": ".py",
   "mimetype": "text/x-python",
   "name": "python",
   "nbconvert_exporter": "python",
   "pygments_lexer": "ipython3",
   "version": "3.4.4"
  }
 },
 "nbformat": 4,
 "nbformat_minor": 1
}
