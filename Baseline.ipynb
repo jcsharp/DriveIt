{
 "cells": [
  {
   "cell_type": "markdown",
   "metadata": {},
   "source": [
    "# Baseline: Reflex Control\n",
    "\n",
    "Steers the car proportionally to the \"blueness\" of the floor color sensors."
   ]
  },
  {
   "cell_type": "code",
   "execution_count": 22,
   "metadata": {
    "collapsed": false,
    "scrolled": false
   },
   "outputs": [
    {
     "name": "stdout",
     "output_type": "stream",
     "text": [
      "Episode 1 complete. reward: 17.393174, laps: 3.454940\n",
      "Average reward: 17.393174\n"
     ]
    }
   ],
   "source": [
    "from DriveItGym import *\n",
    "import numpy as np\n",
    "from numpy import pi\n",
    "\n",
    "num_episodes = 1  # number of episodes to run\n",
    "time_limit = 10.0\n",
    "throttle_limit = 1.0\n",
    "gamma = 0.98\n",
    "epsilon = 0.0\n",
    "bias = 0.0\n",
    "\n",
    "env = DriveItEnv(time_limit, throttle_limit, gamma, trail_length=2.9)\n",
    "observation = env.reset()\n",
    "done = False\n",
    "reward_episode = 0\n",
    "reward_sum = 0.0\n",
    "\n",
    "for i_episode in range(1, num_episodes + 1):\n",
    "    while not done:\n",
    "        if num_episodes < 2:\n",
    "            env.render()\n",
    "\n",
    "        ld, theta, steer, brl = observation\n",
    "        delta = brl * 1.5 - steer + bias\n",
    "\n",
    "        if np.abs(delta) <= 0.03:\n",
    "            action = 0 if np.random.uniform() >= epsilon else np.random.randint(0, 2)\n",
    "        elif delta < 0: action = 2 if np.random.uniform() >= epsilon else 0\n",
    "        else: action = 1 if np.random.uniform() >= epsilon else 0\n",
    "\n",
    "        observation, reward, done, info = env.step(action)\n",
    "        reward_episode += reward\n",
    "        #reward_sum = reward + gamma * reward_sum\n",
    "\n",
    "        #if info['checkpoint']: \n",
    "        #    print('checkpoint: reward: %f' % (reward_sum))\n",
    "        #if info['lap']: \n",
    "        #    print('lap:        reward: %f' % (reward_sum))\n",
    "\n",
    "    if num_episodes <= 10:\n",
    "        print('Episode %d %s. reward: %f, laps: %f' % \\\n",
    "              (i_episode, info['done'], reward_episode, \\\n",
    "               reward_episode / lap_median_length))\n",
    "    reward_sum += reward_episode\n",
    "    reward_episode = 0\n",
    "    observation = env.reset()\n",
    "    done = False\n",
    "\n",
    "print('Average reward: %f' %(reward_sum / num_episodes))"
   ]
  },
  {
   "cell_type": "code",
   "execution_count": 23,
   "metadata": {
    "collapsed": false
   },
   "outputs": [],
   "source": [
    "env.close()"
   ]
  },
  {
   "cell_type": "code",
   "execution_count": 9,
   "metadata": {
    "collapsed": false
   },
   "outputs": [
    {
     "data": {
      "text/plain": [
       "array([-0.2378903 , -0.49266462,  0.08333333, -0.00784314])"
      ]
     },
     "execution_count": 9,
     "metadata": {},
     "output_type": "execute_result"
    }
   ],
   "source": [
    "env.reset()"
   ]
  },
  {
   "cell_type": "code",
   "execution_count": 58,
   "metadata": {
    "collapsed": true
   },
   "outputs": [],
   "source": [
    "env.render()"
   ]
  },
  {
   "cell_type": "code",
   "execution_count": 22,
   "metadata": {
    "collapsed": false
   },
   "outputs": [
    {
     "data": {
      "text/plain": [
       "2.0833333333333313"
      ]
     },
     "execution_count": 22,
     "metadata": {},
     "output_type": "execute_result"
    }
   ],
   "source": [
    "# out penalty = max discounted reward for median laps at full speed\n",
    "rmax = throttle_limit * v_max * dt / (1 - gamma)\n",
    "rmax"
   ]
  },
  {
   "cell_type": "code",
   "execution_count": null,
   "metadata": {
    "collapsed": true
   },
   "outputs": [],
   "source": []
  }
 ],
 "metadata": {
  "anaconda-cloud": {},
  "kernelspec": {
   "display_name": "Python [conda env:cntk-py34]",
   "language": "python",
   "name": "conda-env-cntk-py34-py"
  },
  "language_info": {
   "codemirror_mode": {
    "name": "ipython",
    "version": 3
   },
   "file_extension": ".py",
   "mimetype": "text/x-python",
   "name": "python",
   "nbconvert_exporter": "python",
   "pygments_lexer": "ipython3",
   "version": "3.4.4"
  }
 },
 "nbformat": 4,
 "nbformat_minor": 1
}
