{
 "cells": [
  {
   "cell_type": "markdown",
   "metadata": {},
   "source": [
    "### Running the DQN model"
   ]
  },
  {
   "cell_type": "code",
   "execution_count": 1,
   "metadata": {
    "collapsed": false,
    "scrolled": false
   },
   "outputs": [],
   "source": [
    "import cntk as C\n",
    "from DriveItGym import *\n",
    "\n",
    "env = DriveItEnv(time_limit=10.0, throttle_limit=1.0, \\\n",
    "                 show_true_median_pos=False, trail_length=2.6)\n",
    "random_position=False\n",
    "\n",
    "def run_model(path, num_episodes=1):\n",
    "    stateCnt  = env.observation_space.shape[0]\n",
    "    observation = env._reset(random_position)\n",
    "\n",
    "    model = C.load_model(path)\n",
    "\n",
    "    done = False\n",
    "    reward_episode = 0\n",
    "    reward_sum = 0\n",
    "    reward_no_crash = 0\n",
    "    crashes = 0\n",
    "\n",
    "    for i_episode in range(1, num_episodes + 1):\n",
    "        while not done:\n",
    "            if num_episodes < 2:\n",
    "                env.render()\n",
    "\n",
    "            action = np.argmax(model.eval(\\\n",
    "                observation.reshape(1, stateCnt).astype(np.float32)))\n",
    "\n",
    "            observation, reward, done, info = env.step(action)\n",
    "            reward_episode += reward\n",
    "\n",
    "        if num_episodes <= 10:\n",
    "            print('Episode %d %s. reward: %f, laps: %f' % \\\n",
    "                  (i_episode, info['done'], reward_episode, \\\n",
    "                   reward_episode / lap_median_length))\n",
    "        if info['done'] != 'complete':\n",
    "            crashes += 1\n",
    "        else:\n",
    "            reward_no_crash += reward_episode\n",
    "        reward_sum += reward_episode\n",
    "        reward_episode = 0\n",
    "        observation = env._reset(random_position)\n",
    "        done = False\n",
    "\n",
    "    if num_episodes > 1:\n",
    "        print('Average reward: %f with %d crashes (%f excl. crashes)' % \\\n",
    "              (reward_sum / num_episodes, crashes, \\\n",
    "               reward_no_crash / (num_episodes - crashes)))"
   ]
  },
  {
   "cell_type": "code",
   "execution_count": 2,
   "metadata": {
    "collapsed": true
   },
   "outputs": [],
   "source": [
    "modelPath = 'best.mod'"
   ]
  },
  {
   "cell_type": "code",
   "execution_count": 2,
   "metadata": {
    "collapsed": true
   },
   "outputs": [],
   "source": [
    "modelPath = 'D:/jc/OneDrive - manoli.net/Courses/CS229/Project/cntk/bigboss/best.mod'"
   ]
  },
  {
   "cell_type": "code",
   "execution_count": 5,
   "metadata": {
    "collapsed": false
   },
   "outputs": [
    {
     "name": "stdout",
     "output_type": "stream",
     "text": [
      "Average reward: 19.569906 with 0 crashes (19.569906 excl. crashes)\n"
     ]
    }
   ],
   "source": [
    "run_model(modelPath, 100)"
   ]
  },
  {
   "cell_type": "code",
   "execution_count": 4,
   "metadata": {
    "collapsed": false
   },
   "outputs": [
    {
     "name": "stdout",
     "output_type": "stream",
     "text": [
      "Episode 1 complete. reward: 19.690220, laps: 3.911220\n",
      "Episode 2 complete. reward: 19.665472, laps: 3.906304\n",
      "Episode 3 complete. reward: 19.375482, laps: 3.848701\n",
      "Episode 4 complete. reward: 19.523640, laps: 3.878130\n",
      "Episode 5 complete. reward: 19.639027, laps: 3.901051\n",
      "Episode 6 complete. reward: 19.667378, laps: 3.906682\n",
      "Episode 7 complete. reward: 19.698328, laps: 3.912830\n",
      "Episode 8 complete. reward: 19.539952, laps: 3.881371\n",
      "Episode 9 complete. reward: 19.716652, laps: 3.916470\n",
      "Episode 10 complete. reward: 19.700494, laps: 3.913260\n",
      "Average reward: 19.621665 with 0 crashes (19.621665 excl. crashes)\n"
     ]
    }
   ],
   "source": [
    "run_model(modelPath, 10)"
   ]
  },
  {
   "cell_type": "code",
   "execution_count": 3,
   "metadata": {
    "collapsed": false
   },
   "outputs": [
    {
     "name": "stdout",
     "output_type": "stream",
     "text": [
      "Episode 1 complete. reward: 19.739589, laps: 3.921026\n"
     ]
    }
   ],
   "source": [
    "run_model(modelPath, 1)"
   ]
  },
  {
   "cell_type": "code",
   "execution_count": 4,
   "metadata": {
    "collapsed": false
   },
   "outputs": [],
   "source": [
    "env.close()"
   ]
  },
  {
   "cell_type": "code",
   "execution_count": 26,
   "metadata": {
    "collapsed": false
   },
   "outputs": [
    {
     "data": {
      "text/plain": [
       "array([ 0.00200037, -0.03441861,  0.        ,  0.        ])"
      ]
     },
     "execution_count": 26,
     "metadata": {},
     "output_type": "execute_result"
    }
   ],
   "source": [
    "env._reset(random_position=False)"
   ]
  },
  {
   "cell_type": "code",
   "execution_count": 13,
   "metadata": {
    "collapsed": false
   },
   "outputs": [],
   "source": [
    "env.render()"
   ]
  },
  {
   "cell_type": "code",
   "execution_count": 20,
   "metadata": {
    "collapsed": false
   },
   "outputs": [
    {
     "data": {
      "text/plain": [
       "(array([ 0.17223266,  0.00231618,  0.2       ,  0.01960784]),\n",
       " 0.04174948671969142,\n",
       " False,\n",
       " {'checkpoint': False, 'done': 'unknown', 'lap': False})"
      ]
     },
     "execution_count": 20,
     "metadata": {},
     "output_type": "execute_result"
    }
   ],
   "source": [
    "env.step(1)"
   ]
  },
  {
   "cell_type": "code",
   "execution_count": 3,
   "metadata": {
    "collapsed": false
   },
   "outputs": [],
   "source": [
    "lr = [0.01, 0.005, 0.0025, 0.001]\n",
    "lr_schedule = C.learning_rate_schedule(lr, C.UnitType.minibatch, epoch_size=5000)"
   ]
  },
  {
   "cell_type": "code",
   "execution_count": 12,
   "metadata": {
    "collapsed": false
   },
   "outputs": [
    {
     "data": {
      "text/plain": [
       "0.005"
      ]
     },
     "execution_count": 12,
     "metadata": {},
     "output_type": "execute_result"
    }
   ],
   "source": [
    "lr_schedule[5000]"
   ]
  },
  {
   "cell_type": "code",
   "execution_count": 15,
   "metadata": {
    "collapsed": false
   },
   "outputs": [
    {
     "data": {
      "text/plain": [
       "2.0833333333333313"
      ]
     },
     "execution_count": 15,
     "metadata": {},
     "output_type": "execute_result"
    }
   ],
   "source": [
    "#max penalty\n",
    "1.0 * 2.5 / 60.0 / (1 - 0.98)"
   ]
  },
  {
   "cell_type": "code",
   "execution_count": 5,
   "metadata": {
    "collapsed": false
   },
   "outputs": [
    {
     "data": {
      "text/plain": [
       "2.517145867644259"
      ]
     },
     "execution_count": 5,
     "metadata": {},
     "output_type": "execute_result"
    }
   ],
   "source": [
    "checkpoint_median_length"
   ]
  },
  {
   "cell_type": "code",
   "execution_count": null,
   "metadata": {
    "collapsed": true
   },
   "outputs": [],
   "source": []
  }
 ],
 "metadata": {
  "anaconda-cloud": {},
  "kernelspec": {
   "display_name": "Python [conda env:cntk-py34]",
   "language": "python",
   "name": "conda-env-cntk-py34-py"
  },
  "language_info": {
   "codemirror_mode": {
    "name": "ipython",
    "version": 3
   },
   "file_extension": ".py",
   "mimetype": "text/x-python",
   "name": "python",
   "nbconvert_exporter": "python",
   "pygments_lexer": "ipython3",
   "version": "3.4.4"
  }
 },
 "nbformat": 4,
 "nbformat_minor": 1
}
