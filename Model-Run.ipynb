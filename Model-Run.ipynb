{
 "cells": [
  {
   "cell_type": "markdown",
   "metadata": {},
   "source": [
    "### Running the DQN model"
   ]
  },
  {
   "cell_type": "code",
   "execution_count": 6,
   "metadata": {
    "collapsed": false,
    "scrolled": false
   },
   "outputs": [],
   "source": [
    "import cntk as C\n",
    "from DriveItGym import *\n",
    "\n",
    "env = DriveItEnv(time_limit=10.0, throttle_limit=1.0, trail_length=2.5)\n",
    "\n",
    "def run_model(path, num_episodes=1):\n",
    "    stateCnt  = env.observation_space.shape[0]\n",
    "    observation = env.reset()\n",
    "\n",
    "    model = C.load_model(path)\n",
    "\n",
    "    done = False\n",
    "    reward_episode = 0\n",
    "    reward_sum = 0\n",
    "    reward_no_crash = 0\n",
    "    crashes = 0\n",
    "\n",
    "    for i_episode in range(1, num_episodes + 1):\n",
    "        while not done:\n",
    "            if num_episodes < 2:\n",
    "                env.render()\n",
    "\n",
    "            action = np.argmax(model.eval(\\\n",
    "                observation.reshape(1, stateCnt).astype(np.float32)))\n",
    "\n",
    "            observation, reward, done, info = env.step(action)\n",
    "            reward_episode += reward\n",
    "\n",
    "        if num_episodes <= 10:\n",
    "            print('Episode %d %s. reward: %f, laps: %f' % \\\n",
    "                  (i_episode, info['done'], reward_episode, \\\n",
    "                   reward_episode / lap_median_length))\n",
    "        if info['done'] != 'complete':\n",
    "            crashes += 1\n",
    "        else:\n",
    "            reward_no_crash += reward_episode\n",
    "        reward_sum += reward_episode\n",
    "        reward_episode = 0\n",
    "        observation = env.reset()\n",
    "        done = False\n",
    "\n",
    "    if num_episodes > 1:\n",
    "        print('Average reward: %f with %d crashes (%f excl. crashes)' % \\\n",
    "              (reward_sum / num_episodes, crashes, \\\n",
    "               reward_no_crash / (num_episodes - crashes)))"
   ]
  },
  {
   "cell_type": "code",
   "execution_count": 7,
   "metadata": {
    "collapsed": true
   },
   "outputs": [],
   "source": [
    "modelPath = 'best-3.mod'"
   ]
  },
  {
   "cell_type": "code",
   "execution_count": 2,
   "metadata": {
    "collapsed": true
   },
   "outputs": [],
   "source": [
    "modelPath = 'bigboss/best.mod'"
   ]
  },
  {
   "cell_type": "code",
   "execution_count": 5,
   "metadata": {
    "collapsed": false
   },
   "outputs": [
    {
     "name": "stdout",
     "output_type": "stream",
     "text": [
      "Average reward: 19.229280 with 1 crashes (19.432737 excl. crashes)\n"
     ]
    }
   ],
   "source": [
    "run_model(modelPath, 100)"
   ]
  },
  {
   "cell_type": "code",
   "execution_count": 8,
   "metadata": {
    "collapsed": false
   },
   "outputs": [
    {
     "name": "stdout",
     "output_type": "stream",
     "text": [
      "Episode 1 complete. reward: 20.593239, laps: 4.090593\n",
      "Episode 2 complete. reward: 20.449128, laps: 4.061967\n",
      "Episode 3 complete. reward: 20.826011, laps: 4.136830\n",
      "Episode 4 out. reward: -0.945641, laps: -0.187840\n",
      "Episode 5 out. reward: -0.457163, laps: -0.090810\n",
      "Episode 6 complete. reward: 20.388677, laps: 4.049959\n",
      "Episode 7 complete. reward: 20.784223, laps: 4.128530\n",
      "Episode 8 complete. reward: 20.621257, laps: 4.096159\n",
      "Episode 9 complete. reward: 20.582704, laps: 4.088500\n",
      "Episode 10 complete. reward: 20.701236, laps: 4.112045\n",
      "Average reward: 16.354367 with 2 crashes (20.618309 excl. crashes)\n"
     ]
    }
   ],
   "source": [
    "run_model(modelPath, 10)"
   ]
  },
  {
   "cell_type": "code",
   "execution_count": 11,
   "metadata": {
    "collapsed": false
   },
   "outputs": [
    {
     "name": "stdout",
     "output_type": "stream",
     "text": [
      "Episode 1 complete. reward: 20.839821, laps: 4.139574\n"
     ]
    }
   ],
   "source": [
    "run_model(modelPath, 1)"
   ]
  },
  {
   "cell_type": "code",
   "execution_count": 12,
   "metadata": {
    "collapsed": false
   },
   "outputs": [],
   "source": [
    "env.close()"
   ]
  },
  {
   "cell_type": "code",
   "execution_count": 18,
   "metadata": {
    "collapsed": false
   },
   "outputs": [
    {
     "data": {
      "text/plain": [
       "array([ 0.15602437, -0.00352779,  0.        ,  0.        ])"
      ]
     },
     "execution_count": 18,
     "metadata": {},
     "output_type": "execute_result"
    }
   ],
   "source": [
    "env.reset()"
   ]
  },
  {
   "cell_type": "code",
   "execution_count": 19,
   "metadata": {
    "collapsed": false
   },
   "outputs": [],
   "source": [
    "env.render()"
   ]
  },
  {
   "cell_type": "code",
   "execution_count": 20,
   "metadata": {
    "collapsed": false
   },
   "outputs": [
    {
     "data": {
      "text/plain": [
       "(array([ 0.17223266,  0.00231618,  0.2       ,  0.01960784]),\n",
       " 0.04174948671969142,\n",
       " False,\n",
       " {'checkpoint': False, 'done': 'unknown', 'lap': False})"
      ]
     },
     "execution_count": 20,
     "metadata": {},
     "output_type": "execute_result"
    }
   ],
   "source": [
    "env.step(1)"
   ]
  },
  {
   "cell_type": "code",
   "execution_count": null,
   "metadata": {
    "collapsed": true
   },
   "outputs": [],
   "source": []
  }
 ],
 "metadata": {
  "anaconda-cloud": {},
  "kernelspec": {
   "display_name": "Python [conda env:cntk-py34]",
   "language": "python",
   "name": "conda-env-cntk-py34-py"
  },
  "language_info": {
   "codemirror_mode": {
    "name": "ipython",
    "version": 3
   },
   "file_extension": ".py",
   "mimetype": "text/x-python",
   "name": "python",
   "nbconvert_exporter": "python",
   "pygments_lexer": "ipython3",
   "version": "3.4.4"
  }
 },
 "nbformat": 4,
 "nbformat_minor": 1
}
